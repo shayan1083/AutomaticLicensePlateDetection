{
 "cells": [
  {
   "cell_type": "markdown",
   "metadata": {},
   "source": [
    "Augment Each Character Image to Generate More Character Images"
   ]
  },
  {
   "cell_type": "code",
   "execution_count": 30,
   "metadata": {},
   "outputs": [],
   "source": [
    "import os\n",
    "import matplotlib.pyplot as plt\n",
    "import torch\n",
    "import torchvision\n",
    "from torchvision.transforms import v2\n",
    "from PIL import Image"
   ]
  },
  {
   "cell_type": "markdown",
   "metadata": {},
   "source": [
    "# Pytorch"
   ]
  },
  {
   "cell_type": "code",
   "execution_count": 31,
   "metadata": {},
   "outputs": [],
   "source": [
    "INPUT_FOLDER = '../images/bilinear_images_5x500'\n",
    "num_augments= 500\n",
    "images_per_row = 3"
   ]
  },
  {
   "cell_type": "code",
   "execution_count": 32,
   "metadata": {},
   "outputs": [],
   "source": [
    "def augment_image(image_path):\n",
    "    transform = v2.Compose([\n",
    "        v2.Grayscale(),\n",
    "        v2.RandomAffine(10, fill=255, interpolation=v2.InterpolationMode.NEAREST),\n",
    "        v2.RandomPerspective(0.2, fill=255, interpolation=v2.InterpolationMode.BILINEAR),\n",
    "        v2.ToImage(), \n",
    "        v2.ToDtype(torch.float32, scale=True)\n",
    "    ])\n",
    "    augmented_image = transform(image_path)\n",
    "    return augmented_image"
   ]
  },
  {
   "cell_type": "code",
   "execution_count": 7,
   "metadata": {},
   "outputs": [],
   "source": [
    "for char_folder in os.listdir(INPUT_FOLDER):\n",
    "    char_path = os.path.join(INPUT_FOLDER, char_folder) \n",
    "    if not os.path.isdir(char_path):\n",
    "        continue\n",
    "    \n",
    "    for image_file in os.listdir(char_path):\n",
    "        if not image_file.lower().endswith(('.png')):\n",
    "            continue\n",
    "        if image_file.startswith(('LP_char_')): # if it is not the original file, then skip making copies\n",
    "            img_path = os.path.join(char_path, image_file)\n",
    "            os.remove(img_path)"
   ]
  },
  {
   "cell_type": "code",
   "execution_count": 33,
   "metadata": {},
   "outputs": [],
   "source": [
    "for char_folder in os.listdir(INPUT_FOLDER):\n",
    "    char_path = os.path.join(INPUT_FOLDER, char_folder) \n",
    "    if not os.path.isdir(char_path):\n",
    "        continue\n",
    "    \n",
    "    for image_file in os.listdir(char_path):\n",
    "        if not image_file.lower().endswith(('.png')):\n",
    "            continue\n",
    "        if not image_file.startswith(('DG_char_', 'PG_char_', 'RD_char_', 'KSR_char_', 'LP_char_')): # if it is not the original file, then skip making copies\n",
    "            continue\n",
    "\n",
    "        img_path = os.path.join(char_path, image_file)\n",
    "        img = Image.open(img_path)\n",
    "\n",
    "        # num_rows = num_augments//images_per_row\n",
    "\n",
    "        # fig, axes = plt.subplots(num_rows, images_per_row, figsize=(20,4*num_rows))\n",
    "        # fig.suptitle(f'Augmented Images for {char_folder}/{image_file}', fontsize=16)\n",
    "\n",
    "        for i in range(num_augments):\n",
    "            # row = i // images_per_row\n",
    "            # col = i % images_per_row\n",
    "            augmented_image = augment_image(img).squeeze()\n",
    "            # axes[row,col].imshow(augmented_image, cmap='gray')\n",
    "            # axes[row,col].axis('off')\n",
    "            save_path = os.path.join(char_path, f\"aug_{os.path.splitext(image_file)[0]}_{i}.png\")\n",
    "            #print(save_path)\n",
    "            torchvision.utils.save_image(augmented_image, save_path)"
   ]
  }
 ],
 "metadata": {
  "kernelspec": {
   "display_name": "venv",
   "language": "python",
   "name": "python3"
  },
  "language_info": {
   "codemirror_mode": {
    "name": "ipython",
    "version": 3
   },
   "file_extension": ".py",
   "mimetype": "text/x-python",
   "name": "python",
   "nbconvert_exporter": "python",
   "pygments_lexer": "ipython3",
   "version": "3.11.3"
  }
 },
 "nbformat": 4,
 "nbformat_minor": 2
}
